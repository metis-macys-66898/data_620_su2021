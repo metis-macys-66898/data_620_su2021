{
 "cells": [
  {
   "cell_type": "code",
   "execution_count": 1,
   "id": "4964d781",
   "metadata": {},
   "outputs": [],
   "source": [
    "# !pip install matplotlib==2.2.0"
   ]
  },
  {
   "cell_type": "code",
   "execution_count": 2,
   "id": "c0380472",
   "metadata": {},
   "outputs": [],
   "source": [
    "import networkx as nx\n",
    "import matplotlib.pyplot as plt\n",
    "import warnings\n",
    "warnings.filterwarnings(\"ignore\",category=UserWarning)\n",
    "\n",
    "# Source: https://networkx.org/documentation/stable/_modules/networkx/generators/small.html#krackhardt_kite_graph\n",
    "def krackhardt_kite_graph(create_using=None):\n",
    "    \"\"\"\n",
    "    Return the Krackhardt Kite Social Network.\n",
    "\n",
    "    A 10 actor social network introduced by David Krackhardt\n",
    "    to illustrate: degree, betweenness, centrality, closeness, etc.\n",
    "    The traditional labeling is:\n",
    "    Andre=1, Beverley=2, Carol=3, Diane=4,\n",
    "    Ed=5, Fernando=6, Garth=7, Heather=8, Ike=9, Jane=10.\n",
    "\n",
    "    \"\"\"\n",
    "    description = [\n",
    "        \"adjacencylist\",\n",
    "        \"Krackhardt Kite Social Network\",\n",
    "        10,\n",
    "        [\n",
    "            [2, 3, 4, 6],\n",
    "            [1, 4, 5, 7],\n",
    "            [1, 4, 6],\n",
    "            [1, 2, 3, 5, 6, 7],\n",
    "            [2, 4, 7],\n",
    "            [1, 3, 4, 7, 8],\n",
    "            [2, 4, 5, 6, 8],\n",
    "            [6, 7, 9],\n",
    "            [8, 10],\n",
    "            [9],\n",
    "        ],\n",
    "    ]\n",
    "    G = make_small_undirected_graph(description, create_using)\n",
    "    return G"
   ]
  },
  {
   "cell_type": "code",
   "execution_count": 7,
   "id": "ba59d7f5",
   "metadata": {},
   "outputs": [],
   "source": [
    "simple_graph1 = nx.krackhardt_kite_graph()"
   ]
  },
  {
   "cell_type": "code",
   "execution_count": 8,
   "id": "2e59661b",
   "metadata": {},
   "outputs": [
    {
     "data": {
      "text/plain": [
       "[(0, 1),\n",
       " (0, 2),\n",
       " (0, 3),\n",
       " (0, 5),\n",
       " (1, 3),\n",
       " (1, 4),\n",
       " (1, 6),\n",
       " (2, 3),\n",
       " (2, 5),\n",
       " (3, 4),\n",
       " (3, 5),\n",
       " (3, 6),\n",
       " (4, 6),\n",
       " (5, 6),\n",
       " (5, 7),\n",
       " (6, 7),\n",
       " (7, 8),\n",
       " (8, 9)]"
      ]
     },
     "execution_count": 8,
     "metadata": {},
     "output_type": "execute_result"
    }
   ],
   "source": [
    "#examining the edges\n",
    "simple_graph1.edges()"
   ]
  },
  {
   "cell_type": "code",
   "execution_count": 9,
   "id": "2c853615",
   "metadata": {},
   "outputs": [
    {
     "data": {
      "text/plain": [
       "[0, 1, 2, 3, 4, 5, 6, 7, 8, 9]"
      ]
     },
     "execution_count": 9,
     "metadata": {},
     "output_type": "execute_result"
    }
   ],
   "source": [
    "# examining the nodes\n",
    "simple_graph1.nodes()\n"
   ]
  },
  {
   "cell_type": "markdown",
   "id": "1e4491cf",
   "metadata": {},
   "source": [
    "# Lets draw a simple network using the krackhardt_kite_graph function:"
   ]
  },
  {
   "cell_type": "code",
   "execution_count": 10,
   "id": "efb570d1",
   "metadata": {},
   "outputs": [
    {
     "data": {
      "image/png": "[encoded data removed]",
      "text/plain": [
       "<Figure size 432x288 with 1 Axes>"
      ]
     },
     "metadata": {},
     "output_type": "display_data"
    }
   ],
   "source": [
    "nx.draw(simple_graph1, with_labels=True)\n",
    "plt.show()"
   ]
  },
  {
   "cell_type": "markdown",
   "id": "950556a6",
   "metadata": {},
   "source": [
    "# Lets anonotate the network with the traditional labeling:"
   ]
  },
  {
   "cell_type": "code",
   "execution_count": 20,
   "id": "c5fb5d8b",
   "metadata": {},
   "outputs": [],
   "source": [
    "# exception 10:Jane -> 0:Jane\n",
    "friend_mappings = {0:'Jane', 1:\"Andre\", 2:\"Beverley\", 3:\"Carol\", 4:\"Diane\", 5:\"Ed\", 6:\"Fernando\", 7:\"Garth\", 8:\"Heather\", 9:\"Ike\"}\n",
    "edges = [(0, 1),\n",
    "         (0, 2),\n",
    "         (0, 3),\n",
    "         (0, 5),\n",
    "         (1, 3),\n",
    "         (1, 4),\n",
    "         (1, 6),\n",
    "         (2, 3),\n",
    "         (2, 5),\n",
    "         (3, 4),\n",
    "         (3, 5),\n",
    "         (3, 6),\n",
    "         (4, 6),\n",
    "         (5, 6),\n",
    "         (5, 7),\n",
    "         (6, 7),\n",
    "         (7, 8),\n",
    "         (8, 9)\n",
    "        ]"
   ]
  },
  {
   "cell_type": "code",
   "execution_count": 28,
   "id": "6faf6649",
   "metadata": {},
   "outputs": [
    {
     "data": {
      "text/plain": [
       "[0, 1, 2, 3, 4, 5, 6, 7, 8, 9]"
      ]
     },
     "execution_count": 28,
     "metadata": {},
     "output_type": "execute_result"
    }
   ],
   "source": [
    "# To create a new graph with 10 nodes:\n",
    "G = nx.path_graph(10)\n",
    "sorted(G)\n"
   ]
  },
  {
   "cell_type": "code",
   "execution_count": 26,
   "id": "1ad8e759",
   "metadata": {},
   "outputs": [
    {
     "data": {
      "text/plain": [
       "networkx.classes.graph.Graph"
      ]
     },
     "execution_count": 26,
     "metadata": {},
     "output_type": "execute_result"
    }
   ],
   "source": [
    "type(G)"
   ]
  },
  {
   "cell_type": "code",
   "execution_count": 29,
   "id": "7d98813e",
   "metadata": {},
   "outputs": [
    {
     "data": {
      "image/png": "[encoded data removed]",
      "text/plain": [
       "<Figure size 432x288 with 1 Axes>"
      ]
     },
     "metadata": {},
     "output_type": "display_data"
    }
   ],
   "source": [
    "friends_network = nx.Graph()\n",
    "friends_network.add_edges_from(edges)\n",
    "friends_network = nx.relabel_nodes(G, friend_mappings)\n",
    "nx.draw(friends_network, with_labels = True)\n",
    "plt.show()"
   ]
  },
  {
   "cell_type": "code",
   "execution_count": null,
   "id": "9d36c506",
   "metadata": {},
   "outputs": [],
   "source": []
  }
 ],
 "metadata": {
  "kernelspec": {
   "display_name": "Python 3",
   "language": "python",
   "name": "python3"
  },
  "language_info": {
   "codemirror_mode": {
    "name": "ipython",
    "version": 3
   },
   "file_extension": ".py",
   "mimetype": "text/x-python",
   "name": "python",
   "nbconvert_exporter": "python",
   "pygments_lexer": "ipython3",
   "version": "3.7.10"
  }
 },
 "nbformat": 4,
 "nbformat_minor": 5
}
